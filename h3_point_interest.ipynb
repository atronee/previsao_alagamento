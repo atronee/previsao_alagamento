{
 "cells": [
  {
   "cell_type": "code",
   "execution_count": 1,
   "metadata": {},
   "outputs": [],
   "source": [
    "import pandas as pd\n",
    "import numpy as np\n",
    "import h3\n",
    "import basedosdados as bd"
   ]
  },
  {
   "cell_type": "code",
   "execution_count": 2,
   "metadata": {},
   "outputs": [
    {
     "data": {
      "text/plain": [
       "1                Av. Presidente Vargas, Cidade Nova\n",
       "24    Ponto 7 - Haddock lobo, ambos os lados da via\n",
       "Name: endereco, dtype: object"
      ]
     },
     "execution_count": 2,
     "metadata": {},
     "output_type": "execute_result"
    }
   ],
   "source": [
    "pontos_interesse_df = pd.read_csv(\"csvs\\pontos_de_alagamento_top50 - Pontos_de_Alagamento.csv\", sep=',', decimal=',') # lendo o arquivo csv\n",
    "res = 8 # resolução do h3\n",
    "\n",
    "# convertendo lat e lon para float\n",
    "pontos_interesse_df.loc[1:,('lat')] = pontos_interesse_df.loc[1:,('lat')].str.replace(',', '.').astype(float) \n",
    "pontos_interesse_df.loc[1:,('lon')] = pontos_interesse_df.loc[1:,('lon')].str.replace(',', '.').astype(float)\n",
    "latlon = pontos_interesse_df[['lat', 'lon']][1:].values.astype(float)\n",
    "h3_pontos_interesse = np.array([h3.geo_to_h3(lat, lon, res) for lat, lon in latlon]) # encontrar o hexagono para cada ponto de interesse\n",
    "mask = h3_pontos_interesse == h3_pontos_interesse[0] # criar uma mascara para os pontos de interesse que estão no mesmo hexagono do primeiro ponto de interesse\n",
    "pontos_interesse_df.loc[1:,(\"endereco\")][mask] # mostrar os pontos de interesse que estão no mesmo hexagono do primeiro ponto de interesse"
   ]
  },
  {
   "cell_type": "code",
   "execution_count": 4,
   "metadata": {},
   "outputs": [
    {
     "name": "stdout",
     "output_type": "stream",
     "text": [
      "Downloading: 100%|\u001b[32m██████████\u001b[0m|\n"
     ]
    },
    {
     "data": {
      "text/html": [
       "<div>\n",
       "<style scoped>\n",
       "    .dataframe tbody tr th:only-of-type {\n",
       "        vertical-align: middle;\n",
       "    }\n",
       "\n",
       "    .dataframe tbody tr th {\n",
       "        vertical-align: top;\n",
       "    }\n",
       "\n",
       "    .dataframe thead th {\n",
       "        text-align: right;\n",
       "    }\n",
       "</style>\n",
       "<table border=\"1\" class=\"dataframe\">\n",
       "  <thead>\n",
       "    <tr style=\"text-align: right;\">\n",
       "      <th></th>\n",
       "      <th>id_pop</th>\n",
       "      <th>data_inicio</th>\n",
       "      <th>data_fim</th>\n",
       "      <th>latitude</th>\n",
       "      <th>longitude</th>\n",
       "      <th>gravidade</th>\n",
       "    </tr>\n",
       "  </thead>\n",
       "  <tbody>\n",
       "    <tr>\n",
       "      <th>0</th>\n",
       "      <td>5</td>\n",
       "      <td>2017-02-02 19:30:32+00:00</td>\n",
       "      <td>2017-02-03 01:00:10+00:00</td>\n",
       "      <td>-23.010140</td>\n",
       "      <td>-43.442512</td>\n",
       "      <td>Baixo</td>\n",
       "    </tr>\n",
       "    <tr>\n",
       "      <th>1</th>\n",
       "      <td>5</td>\n",
       "      <td>2017-02-08 01:30:34+00:00</td>\n",
       "      <td>2017-02-08 03:05:52+00:00</td>\n",
       "      <td>-22.885083</td>\n",
       "      <td>-43.389702</td>\n",
       "      <td>Baixo</td>\n",
       "    </tr>\n",
       "    <tr>\n",
       "      <th>2</th>\n",
       "      <td>5</td>\n",
       "      <td>2020-10-30 00:21:07+00:00</td>\n",
       "      <td>2020-10-30 20:04:52+00:00</td>\n",
       "      <td>-22.850693</td>\n",
       "      <td>-43.471502</td>\n",
       "      <td>Baixo</td>\n",
       "    </tr>\n",
       "    <tr>\n",
       "      <th>3</th>\n",
       "      <td>5</td>\n",
       "      <td>2020-10-07 23:52:01+00:00</td>\n",
       "      <td>2020-10-08 00:24:16+00:00</td>\n",
       "      <td>-22.979718</td>\n",
       "      <td>-43.202439</td>\n",
       "      <td>Baixo</td>\n",
       "    </tr>\n",
       "    <tr>\n",
       "      <th>4</th>\n",
       "      <td>5</td>\n",
       "      <td>2020-10-30 18:09:50+00:00</td>\n",
       "      <td>2020-10-30 21:53:25+00:00</td>\n",
       "      <td>-22.970484</td>\n",
       "      <td>-43.217380</td>\n",
       "      <td>Baixo</td>\n",
       "    </tr>\n",
       "  </tbody>\n",
       "</table>\n",
       "</div>"
      ],
      "text/plain": [
       "   id_pop               data_inicio                  data_fim   latitude  \\\n",
       "0       5 2017-02-02 19:30:32+00:00 2017-02-03 01:00:10+00:00 -23.010140   \n",
       "1       5 2017-02-08 01:30:34+00:00 2017-02-08 03:05:52+00:00 -22.885083   \n",
       "2       5 2020-10-30 00:21:07+00:00 2020-10-30 20:04:52+00:00 -22.850693   \n",
       "3       5 2020-10-07 23:52:01+00:00 2020-10-08 00:24:16+00:00 -22.979718   \n",
       "4       5 2020-10-30 18:09:50+00:00 2020-10-30 21:53:25+00:00 -22.970484   \n",
       "\n",
       "   longitude gravidade  \n",
       "0 -43.442512     Baixo  \n",
       "1 -43.389702     Baixo  \n",
       "2 -43.471502     Baixo  \n",
       "3 -43.202439     Baixo  \n",
       "4 -43.217380     Baixo  "
      ]
     },
     "execution_count": 4,
     "metadata": {},
     "output_type": "execute_result"
    }
   ],
   "source": [
    "query = \"SELECT o.id_pop, o.data_inicio, o.data_fim, o.latitude, o.longitude, o.gravidade  FROM `datario.adm_cor_comando.ocorrencias` as o WHERE o.id_pop in (31,5,32,6) \"\n",
    "proj_id = \"projeto-fgv1\"\n",
    "alagamento_df = bd.read_sql(query, billing_project_id=proj_id)\n",
    "alagamento_df.head()"
   ]
  },
  {
   "cell_type": "code",
   "execution_count": 5,
   "metadata": {},
   "outputs": [
    {
     "data": {
      "text/plain": [
       "'88a8a06a5bfffff'"
      ]
     },
     "execution_count": 5,
     "metadata": {},
     "output_type": "execute_result"
    }
   ],
   "source": [
    "h3_pontos_interesse[0]"
   ]
  },
  {
   "cell_type": "code",
   "execution_count": 6,
   "metadata": {},
   "outputs": [
    {
     "data": {
      "text/html": [
       "<div>\n",
       "<style scoped>\n",
       "    .dataframe tbody tr th:only-of-type {\n",
       "        vertical-align: middle;\n",
       "    }\n",
       "\n",
       "    .dataframe tbody tr th {\n",
       "        vertical-align: top;\n",
       "    }\n",
       "\n",
       "    .dataframe thead th {\n",
       "        text-align: right;\n",
       "    }\n",
       "</style>\n",
       "<table border=\"1\" class=\"dataframe\">\n",
       "  <thead>\n",
       "    <tr style=\"text-align: right;\">\n",
       "      <th></th>\n",
       "      <th>id_pop</th>\n",
       "      <th>data_inicio</th>\n",
       "      <th>data_fim</th>\n",
       "      <th>latitude</th>\n",
       "      <th>longitude</th>\n",
       "      <th>gravidade</th>\n",
       "      <th>h3</th>\n",
       "    </tr>\n",
       "  </thead>\n",
       "  <tbody>\n",
       "    <tr>\n",
       "      <th>0</th>\n",
       "      <td>5</td>\n",
       "      <td>2017-02-02 19:30:32+00:00</td>\n",
       "      <td>2017-02-03 01:00:10+00:00</td>\n",
       "      <td>-23.010140</td>\n",
       "      <td>-43.442512</td>\n",
       "      <td>Baixo</td>\n",
       "      <td>88a8a07469fffff</td>\n",
       "    </tr>\n",
       "    <tr>\n",
       "      <th>1</th>\n",
       "      <td>5</td>\n",
       "      <td>2017-02-08 01:30:34+00:00</td>\n",
       "      <td>2017-02-08 03:05:52+00:00</td>\n",
       "      <td>-22.885083</td>\n",
       "      <td>-43.389702</td>\n",
       "      <td>Baixo</td>\n",
       "      <td>88a8a06729fffff</td>\n",
       "    </tr>\n",
       "    <tr>\n",
       "      <th>2</th>\n",
       "      <td>5</td>\n",
       "      <td>2020-10-30 00:21:07+00:00</td>\n",
       "      <td>2020-10-30 20:04:52+00:00</td>\n",
       "      <td>-22.850693</td>\n",
       "      <td>-43.471502</td>\n",
       "      <td>Baixo</td>\n",
       "      <td>88a8a06451fffff</td>\n",
       "    </tr>\n",
       "    <tr>\n",
       "      <th>3</th>\n",
       "      <td>5</td>\n",
       "      <td>2020-10-07 23:52:01+00:00</td>\n",
       "      <td>2020-10-08 00:24:16+00:00</td>\n",
       "      <td>-22.979718</td>\n",
       "      <td>-43.202439</td>\n",
       "      <td>Baixo</td>\n",
       "      <td>88a8a078cbfffff</td>\n",
       "    </tr>\n",
       "    <tr>\n",
       "      <th>4</th>\n",
       "      <td>5</td>\n",
       "      <td>2020-10-30 18:09:50+00:00</td>\n",
       "      <td>2020-10-30 21:53:25+00:00</td>\n",
       "      <td>-22.970484</td>\n",
       "      <td>-43.217380</td>\n",
       "      <td>Baixo</td>\n",
       "      <td>88a8a078d1fffff</td>\n",
       "    </tr>\n",
       "  </tbody>\n",
       "</table>\n",
       "</div>"
      ],
      "text/plain": [
       "   id_pop               data_inicio                  data_fim   latitude  \\\n",
       "0       5 2017-02-02 19:30:32+00:00 2017-02-03 01:00:10+00:00 -23.010140   \n",
       "1       5 2017-02-08 01:30:34+00:00 2017-02-08 03:05:52+00:00 -22.885083   \n",
       "2       5 2020-10-30 00:21:07+00:00 2020-10-30 20:04:52+00:00 -22.850693   \n",
       "3       5 2020-10-07 23:52:01+00:00 2020-10-08 00:24:16+00:00 -22.979718   \n",
       "4       5 2020-10-30 18:09:50+00:00 2020-10-30 21:53:25+00:00 -22.970484   \n",
       "\n",
       "   longitude gravidade               h3  \n",
       "0 -43.442512     Baixo  88a8a07469fffff  \n",
       "1 -43.389702     Baixo  88a8a06729fffff  \n",
       "2 -43.471502     Baixo  88a8a06451fffff  \n",
       "3 -43.202439     Baixo  88a8a078cbfffff  \n",
       "4 -43.217380     Baixo  88a8a078d1fffff  "
      ]
     },
     "execution_count": 6,
     "metadata": {},
     "output_type": "execute_result"
    }
   ],
   "source": [
    "alagamento_df[\"h3\"] = alagamento_df.apply(lambda row: h3.geo_to_h3(row[\"latitude\"],row[\"longitude\"], res),axis=1)\n",
    "alagamento_df.head()"
   ]
  },
  {
   "cell_type": "code",
   "execution_count": 11,
   "metadata": {},
   "outputs": [
    {
     "data": {
      "text/plain": [
       "(27, 7)"
      ]
     },
     "execution_count": 11,
     "metadata": {},
     "output_type": "execute_result"
    }
   ],
   "source": [
    "alagamento_interesse = alagamento_df[alagamento_df[\"h3\"]==h3_pontos_interesse[0]]\n",
    "alagamento_interesse.shape"
   ]
  },
  {
   "cell_type": "code",
   "execution_count": 12,
   "metadata": {},
   "outputs": [],
   "source": [
    "alagamento_interesse.to_csv(\"csvs/alalamentos_ponto_interesse.csv\",index=False)\n",
    "alagamento_df.to_csv(\"csvs/alagamento.csv\",index=False)"
   ]
  }
 ],
 "metadata": {
  "kernelspec": {
   "display_name": "field",
   "language": "python",
   "name": "python3"
  },
  "language_info": {
   "codemirror_mode": {
    "name": "ipython",
    "version": 3
   },
   "file_extension": ".py",
   "mimetype": "text/x-python",
   "name": "python",
   "nbconvert_exporter": "python",
   "pygments_lexer": "ipython3",
   "version": "3.9.13"
  },
  "orig_nbformat": 4
 },
 "nbformat": 4,
 "nbformat_minor": 2
}

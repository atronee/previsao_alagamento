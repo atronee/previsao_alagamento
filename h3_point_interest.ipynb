{
 "cells": [
  {
   "cell_type": "code",
   "execution_count": 1,
   "metadata": {},
   "outputs": [],
   "source": [
    "import pandas as pd\n",
    "import numpy as np\n",
    "import h3"
   ]
  },
  {
   "cell_type": "code",
   "execution_count": 44,
   "metadata": {},
   "outputs": [
    {
     "data": {
      "text/plain": [
       "1                Av. Presidente Vargas, Cidade Nova\n",
       "24    Ponto 7 - Haddock lobo, ambos os lados da via\n",
       "Name: endereco, dtype: object"
      ]
     },
     "execution_count": 44,
     "metadata": {},
     "output_type": "execute_result"
    }
   ],
   "source": [
    "pontos_interesse_df = pd.read_csv(\"csvs\\pontos_de_alagamento_top50 - Pontos_de_Alagamento.csv\", sep=',', decimal=',') # lendo o arquivo csv\n",
    "res = 8 # resolução do h3\n",
    "\n",
    "# convertendo lat e lon para float\n",
    "pontos_interesse_df.loc[1:,('lat')] = pontos_interesse_df.loc[1:,('lat')].str.replace(',', '.').astype(float) \n",
    "pontos_interesse_df.loc[1:,('lon')] = pontos_interesse_df.loc[1:,('lon')].str.replace(',', '.').astype(float)\n",
    "latlon = pontos_interesse_df[['lat', 'lon']][1:].values.astype(float)\n",
    "h3_pontos_interesse = np.array([h3.geo_to_h3(lat, lon, res) for lat, lon in latlon]) # encontrar o hexagono para cada ponto de interesse\n",
    "mask = h3_pontos_interesse == h3_pontos_interesse[0] # criar uma mascara para os pontos de interesse que estão no mesmo hexagono do primeiro ponto de interesse\n",
    "pontos_interesse_df.loc[1:,(\"endereco\")][mask] # mostrar os pontos de interesse que estão no mesmo hexagono do primeiro ponto de interesse"
   ]
  }
 ],
 "metadata": {
  "kernelspec": {
   "display_name": "field",
   "language": "python",
   "name": "python3"
  },
  "language_info": {
   "codemirror_mode": {
    "name": "ipython",
    "version": 3
   },
   "file_extension": ".py",
   "mimetype": "text/x-python",
   "name": "python",
   "nbconvert_exporter": "python",
   "pygments_lexer": "ipython3",
   "version": "3.9.13"
  },
  "orig_nbformat": 4
 },
 "nbformat": 4,
 "nbformat_minor": 2
}
